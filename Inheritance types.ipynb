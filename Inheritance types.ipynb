{
 "cells": [
  {
   "cell_type": "markdown",
   "id": "fbf0fc8a",
   "metadata": {},
   "source": [
    "INHERITANCE\n"
   ]
  },
  {
   "cell_type": "markdown",
   "id": "994dcc79",
   "metadata": {},
   "source": [
    "SINGLE"
   ]
  },
  {
   "cell_type": "code",
   "execution_count": 14,
   "id": "85609022",
   "metadata": {},
   "outputs": [
    {
     "name": "stdout",
     "output_type": "stream",
     "text": [
      "college\n",
      "student\n"
     ]
    }
   ],
   "source": [
    "class Pesitm():\n",
    "       def first(self):\n",
    "           print('college')\n",
    " \n",
    "class vaish(Pesitm):\n",
    "       def second(self):\n",
    "          print('student')\n",
    " \n",
    "ob = vaish()\n",
    "ob.first()\n",
    "ob.second()"
   ]
  },
  {
   "cell_type": "markdown",
   "id": "6ddd99db",
   "metadata": {},
   "source": [
    "MULTIPLE"
   ]
  },
  {
   "cell_type": "code",
   "execution_count": 16,
   "id": "55a68a31",
   "metadata": {},
   "outputs": [
    {
     "name": "stdout",
     "output_type": "stream",
     "text": [
      "this is college\n",
      "this is place\n",
      "this is student\n"
     ]
    }
   ],
   "source": [
    "class Pesitm:\n",
    "   def func1(self):\n",
    "        print(\"this is college\")\n",
    "class shimoga:\n",
    "   def func2(self):\n",
    "        print(\"this is place\")\n",
    "class vaish(Pesitm , shimoga):\n",
    "    def func3(self):\n",
    "        print(\"this is student\")\n",
    " \n",
    "ob = vaish()\n",
    "ob.func1()\n",
    "ob.func2()\n",
    "ob.func3()"
   ]
  },
  {
   "cell_type": "markdown",
   "id": "61752e5c",
   "metadata": {},
   "source": [
    "MULTI LEVEL"
   ]
  },
  {
   "cell_type": "code",
   "execution_count": 18,
   "id": "d4b53a8c",
   "metadata": {},
   "outputs": [
    {
     "name": "stdout",
     "output_type": "stream",
     "text": [
      "B +ve\n",
      "Height is tall\n",
      "Eyecolor: brown\n"
     ]
    }
   ],
   "source": [
    "class Pappa:\n",
    "    eyeColor = \"black\"\n",
    "    def height(self):\n",
    "        print(\"Height is tall\")\n",
    "    def bloodGroup(self):\n",
    "        print(\"O +ve\") \n",
    "\n",
    "class vaish(Pappa):\n",
    "    def bloodGroup(self):\n",
    "        print(\"B +ve\") \n",
    "\n",
    "class spandana(vaish):\n",
    "    eyeColor=\"brown\"\n",
    "\n",
    "if __name__ == \"__main__\":\n",
    "    objGc = spandana()\n",
    "    objGc.bloodGroup()\n",
    "    objGc.height()\n",
    "    print(\"Eyecolor:\",objGc.eyeColor)"
   ]
  },
  {
   "cell_type": "markdown",
   "id": "64c86ca6",
   "metadata": {},
   "source": [
    "HIERARCHICAL"
   ]
  },
  {
   "cell_type": "code",
   "execution_count": 21,
   "id": "92a38bd0",
   "metadata": {},
   "outputs": [
    {
     "name": "stdout",
     "output_type": "stream",
     "text": [
      "this is father\n",
      "this is daughter\n"
     ]
    }
   ],
   "source": [
    "class Pappa:\n",
    "      def func1(self):\n",
    "          print(\"this is father\")\n",
    "class vaish(Pappa):\n",
    "      def func2(self):\n",
    "          print(\"this is daughter\")\n",
    "class vijay(Pappa):\n",
    "      def func3(self):\n",
    "          print(\"this is son\")\n",
    " \n",
    "ob = vaish()\n",
    "ob1 = vijay()\n",
    "ob.func1()\n",
    "ob.func2()\n"
   ]
  },
  {
   "cell_type": "markdown",
   "id": "52065ad5",
   "metadata": {},
   "source": [
    "HYBRID"
   ]
  },
  {
   "cell_type": "code",
   "execution_count": 24,
   "id": "9c4f4e96",
   "metadata": {},
   "outputs": [
    {
     "name": "stdout",
     "output_type": "stream",
     "text": [
      "This function is in school.\n",
      "This function is in student 1. \n"
     ]
    }
   ],
   "source": [
    "class SNERDT:\n",
    "    def func1(self):\n",
    "        print(\"This function is in school.\")\n",
    "\n",
    "class vaish(SNERDT):\n",
    "    def func2(self):\n",
    "        print(\"This function is in student 1. \")\n",
    "\n",
    "class aish(SNERDT):\n",
    "    def func3(self):\n",
    "        print(\"This function is in student 2.\")\n",
    "\n",
    "class ritu(vaish, SNERDT):\n",
    "    def func4(self):\n",
    "        print(\"This function is in student 3.\")\n",
    "\n",
    "\n",
    "object = Student3()\n",
    "object.func1()\n",
    "object.func2()\n"
   ]
  },
  {
   "cell_type": "code",
   "execution_count": null,
   "id": "9e590536",
   "metadata": {},
   "outputs": [],
   "source": []
  }
 ],
 "metadata": {
  "kernelspec": {
   "display_name": "Python 3",
   "language": "python",
   "name": "python3"
  },
  "language_info": {
   "codemirror_mode": {
    "name": "ipython",
    "version": 3
   },
   "file_extension": ".py",
   "mimetype": "text/x-python",
   "name": "python",
   "nbconvert_exporter": "python",
   "pygments_lexer": "ipython3",
   "version": "3.8.8"
  }
 },
 "nbformat": 4,
 "nbformat_minor": 5
}
